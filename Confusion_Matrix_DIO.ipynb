{
  "nbformat": 4,
  "nbformat_minor": 0,
  "metadata": {
    "colab": {
      "provenance": [],
      "authorship_tag": "ABX9TyPCjjwbmS5nzfUHD4Had6qk",
      "include_colab_link": true
    },
    "kernelspec": {
      "name": "python3",
      "display_name": "Python 3"
    },
    "language_info": {
      "name": "python"
    }
  },
  "cells": [
    {
      "cell_type": "markdown",
      "metadata": {
        "id": "view-in-github",
        "colab_type": "text"
      },
      "source": [
        "<a href=\"https://colab.research.google.com/github/edson-depaula/DIO_BairesDev_Bootcamp/blob/main/Confusion_Matrix_DIO.ipynb\" target=\"_parent\"><img src=\"https://colab.research.google.com/assets/colab-badge.svg\" alt=\"Open In Colab\"/></a>"
      ]
    },
    {
      "cell_type": "code",
      "execution_count": 1,
      "metadata": {
        "id": "REAsuDL45DXW"
      },
      "outputs": [],
      "source": [
        "# Importando as bibliotecas necessárias\n",
        "import numpy as np\n",
        "import matplotlib.pyplot as plt\n",
        "import seaborn as sns\n",
        "from sklearn.metrics import confusion_matrix\n",
        "from sklearn.model_selection import train_test_split\n",
        "from sklearn.ensemble import RandomForestClassifier"
      ]
    },
    {
      "cell_type": "code",
      "source": [
        "# Y_true: as classes verdadeiras dos dados (o gabarito)\n",
        "# Y_pred: as classes que o nosso modelo previu\n",
        "y_true = [0, 1, 0, 0, 1, 1, 0, 1, 0, 1, 1, 0, 0, 1, 1, 0, 1, 1, 0, 0]\n",
        "y_pred = [0, 1, 0, 1, 1, 0, 0, 1, 0, 1, 1, 0, 1, 1, 1, 0, 1, 1, 0, 0]"
      ],
      "metadata": {
        "id": "TDR6iFY45Hl4"
      },
      "execution_count": 2,
      "outputs": []
    },
    {
      "cell_type": "code",
      "source": [
        "# Usamos a função 'confusion_matrix' do scikit-learn\n",
        "# O resultado será uma matriz 2x2:\n",
        "# [[VN, FP],\n",
        "#  [FN, VP]]\n",
        "cm = confusion_matrix(y_true, y_pred)\n",
        "\n",
        "print(\"Matriz de Confusão:\")\n",
        "print(cm)\n",
        "print(\"\\n\")"
      ],
      "metadata": {
        "colab": {
          "base_uri": "https://localhost:8080/"
        },
        "id": "l9eKQBLm5LeU",
        "outputId": "2229343d-6616-4aa0-b5d7-d905b5de6693"
      },
      "execution_count": 3,
      "outputs": [
        {
          "output_type": "stream",
          "name": "stdout",
          "text": [
            "Matriz de Confusão:\n",
            "[[8 2]\n",
            " [1 9]]\n",
            "\n",
            "\n"
          ]
        }
      ]
    },
    {
      "cell_type": "code",
      "source": [
        "VN = cm[0, 0] # Verdadeiros Negativos\n",
        "FP = cm[0, 1] # Falsos Positivos\n",
        "FN = cm[1, 0] # Falsos Negativos\n",
        "VP = cm[1, 1] # Verdadeiros Positivos\n",
        "\n",
        "print(f\"Valores da Matriz de Confusão:\")\n",
        "print(f\"Verdadeiros Positivos (VP): {VP}\")\n",
        "print(f\"Verdadeiros Negativos (VN): {VN}\")\n",
        "print(f\"Falsos Positivos (FP): {FP}\")\n",
        "print(f\"Falsos Negativos (FN): {FN}\")"
      ],
      "metadata": {
        "colab": {
          "base_uri": "https://localhost:8080/"
        },
        "id": "ySMXCRIE5OLw",
        "outputId": "3ea39062-5601-42f2-e34a-047065754888"
      },
      "execution_count": 4,
      "outputs": [
        {
          "output_type": "stream",
          "name": "stdout",
          "text": [
            "Valores da Matriz de Confusão:\n",
            "Verdadeiros Positivos (VP): 9\n",
            "Verdadeiros Negativos (VN): 8\n",
            "Falsos Positivos (FP): 2\n",
            "Falsos Negativos (FN): 1\n"
          ]
        }
      ]
    },
    {
      "cell_type": "code",
      "source": [
        "plt.figure(figsize=(8, 6))\n",
        "sns.heatmap(cm, annot=True, fmt='d', cmap='Blues', xticklabels=['Previsto: 0', 'Previsto: 1'], yticklabels=['Real: 0', 'Real: 1'])\n",
        "plt.ylabel('Valores Reais')\n",
        "plt.xlabel('Valores Preditos')\n",
        "plt.title('Matriz de Confusão')\n",
        "plt.show()"
      ],
      "metadata": {
        "colab": {
          "base_uri": "https://localhost:8080/",
          "height": 564
        },
        "id": "XsjQncmr5Pno",
        "outputId": "827291dd-3e0a-4c07-eb8d-a83b95bc4ff0"
      },
      "execution_count": 5,
      "outputs": [
        {
          "output_type": "display_data",
          "data": {
            "text/plain": [
              "<Figure size 800x600 with 2 Axes>"
            ],
            "image/png": "[encoded data removed]"
          },
          "metadata": {}
        }
      ]
    },
    {
      "cell_type": "code",
      "source": [
        "sensibilidade = VP / (VP + FN)\n",
        "\n",
        "print(f\"Sensibilidade (Recall): {sensibilidade:.4f}\")"
      ],
      "metadata": {
        "colab": {
          "base_uri": "https://localhost:8080/"
        },
        "id": "lHJIDoMl53C6",
        "outputId": "ff55928d-b308-40b1-ed97-97968d385fb7"
      },
      "execution_count": 8,
      "outputs": [
        {
          "output_type": "stream",
          "name": "stdout",
          "text": [
            "Sensibilidade (Recall): 0.9000\n"
          ]
        }
      ]
    },
    {
      "cell_type": "code",
      "source": [
        "especificidade = VN / (VN + FP)\n",
        "\n",
        "print(f\"Especificidade: {especificidade:.4f}\")"
      ],
      "metadata": {
        "colab": {
          "base_uri": "https://localhost:8080/"
        },
        "id": "UH_cO96Z6CFg",
        "outputId": "f504981e-3302-4b82-ac1f-f9b7b18c5248"
      },
      "execution_count": 9,
      "outputs": [
        {
          "output_type": "stream",
          "name": "stdout",
          "text": [
            "Especificidade: 0.8000\n"
          ]
        }
      ]
    },
    {
      "cell_type": "code",
      "source": [
        "acuracia = (VP + VN) / (VP + VN + FP + FN)\n",
        "\n",
        "print(f\"Acurácia: {acuracia:.4f}\")"
      ],
      "metadata": {
        "colab": {
          "base_uri": "https://localhost:8080/"
        },
        "id": "Fj67YZB16RKo",
        "outputId": "37818884-347c-416b-e168-cf78cb117c78"
      },
      "execution_count": 10,
      "outputs": [
        {
          "output_type": "stream",
          "name": "stdout",
          "text": [
            "Acurácia: 0.8500\n"
          ]
        }
      ]
    },
    {
      "cell_type": "code",
      "source": [
        "if (VP + FP) > 0:\n",
        "    precisao = VP / (VP + FP)\n",
        "    print(f\"Precisão: {precisao:.4f}\")\n",
        "else:\n",
        "    print(\"Não é possível calcular a Precisão (VP + FP = 0)\")"
      ],
      "metadata": {
        "colab": {
          "base_uri": "https://localhost:8080/"
        },
        "id": "Xoc0w9ip6bv_",
        "outputId": "6576dc38-07b9-44f3-fdf4-08adab2c314a"
      },
      "execution_count": 11,
      "outputs": [
        {
          "output_type": "stream",
          "name": "stdout",
          "text": [
            "Precisão: 0.8182\n"
          ]
        }
      ]
    },
    {
      "cell_type": "code",
      "source": [
        "if (precisao + sensibilidade) > 0:\n",
        "    f1_score = 2 * (precisao * sensibilidade) / (precisao + sensibilidade)\n",
        "    print(f\"F1-score: {f1_score:.4f}\")\n",
        "else:\n",
        "    print(\"Não é possível calcular o F1-score (Precisão + Sensibilidade = 0)\")"
      ],
      "metadata": {
        "colab": {
          "base_uri": "https://localhost:8080/"
        },
        "id": "a5qFPmiM6swa",
        "outputId": "6f31c0e0-707a-4ea0-a2df-dcd2be1f187b"
      },
      "execution_count": 12,
      "outputs": [
        {
          "output_type": "stream",
          "name": "stdout",
          "text": [
            "F1-score: 0.8571\n"
          ]
        }
      ]
    }
  ]
}